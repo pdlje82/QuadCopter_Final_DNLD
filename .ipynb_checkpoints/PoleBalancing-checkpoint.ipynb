{
 "cells": [
  {
   "cell_type": "markdown",
   "metadata": {},
   "source": [
    "# Project: Train Balancing a pendulum\n"
   ]
  },
  {
   "cell_type": "code",
   "execution_count": 1,
   "metadata": {},
   "outputs": [
    {
     "name": "stderr",
     "output_type": "stream",
     "text": [
      "C:\\ProgramData\\Anaconda3\\lib\\site-packages\\h5py\\__init__.py:36: FutureWarning: Conversion of the second argument of issubdtype from `float` to `np.floating` is deprecated. In future, it will be treated as `np.float64 == np.dtype(float).type`.\n",
      "  from ._conv import register_converters as _register_converters\n",
      "Using TensorFlow backend.\n"
     ]
    },
    {
     "name": "stdout",
     "output_type": "stream",
     "text": [
      "\u001b[33mWARN: gym.spaces.Box autodetected dtype as <class 'numpy.float32'>. Please provide explicit dtype.\u001b[0m\n",
      "\u001b[33mWARN: gym.spaces.Box autodetected dtype as <class 'numpy.float32'>. Please provide explicit dtype.\u001b[0m\n"
     ]
    }
   ],
   "source": [
    "%load_ext autoreload\n",
    "%autoreload 2\n",
    "\n",
    "import sys\n",
    "import pandas as pd\n",
    "import numpy as np\n",
    "import csv\n",
    "import gym\n",
    "from agents.agent import DDPG\n",
    "\n",
    "import matplotlib.pyplot as plt\n",
    "%matplotlib inline\n",
    "\n",
    "env = gym.make('Pendulum-v0')"
   ]
  },
  {
   "cell_type": "code",
   "execution_count": 2,
   "metadata": {},
   "outputs": [
    {
     "name": "stdout",
     "output_type": "stream",
     "text": [
      "State space: Box(3,)\n",
      "- low: [-1. -1. -8.]\n",
      "- high: [1. 1. 8.]\n",
      "State space samples:\n",
      "[[ 0.09762701  0.43037874  1.644214  ]\n",
      " [ 0.08976637 -0.1526904   2.3343058 ]\n",
      " [-0.12482557  0.78354603  7.4186044 ]\n",
      " [-0.23311697  0.5834501   0.46231872]\n",
      " [ 0.13608912  0.85119325 -6.863423  ]]\n"
     ]
    }
   ],
   "source": [
    "# Explore state (observation) space\n",
    "print(\"State space:\", env.observation_space)\n",
    "print(\"- low:\", env.observation_space.low)\n",
    "print(\"- high:\", env.observation_space.high)\n",
    "\n",
    "# Generate some samples from the state space \n",
    "print(\"State space samples:\")\n",
    "print(np.array([env.observation_space.sample() for i in range(5)]))"
   ]
  },
  {
   "cell_type": "code",
   "execution_count": 3,
   "metadata": {},
   "outputs": [
    {
     "name": "stdout",
     "output_type": "stream",
     "text": [
      "Action space: Box(1,)\n",
      "Action space samples:\n",
      "[[-1.6514828]\n",
      " [-1.9191264]\n",
      " [ 1.3304794]\n",
      " [ 1.112627 ]\n",
      " [ 1.4800485]]\n"
     ]
    }
   ],
   "source": [
    "# Explore the action space\n",
    "print(\"Action space:\", env.action_space)\n",
    "\n",
    "# Generate some samples from the action space\n",
    "print(\"Action space samples:\")\n",
    "print(np.array([env.action_space.sample() for i in range(5)]))"
   ]
  },
  {
   "cell_type": "markdown",
   "metadata": {
    "collapsed": true
   },
   "source": [
    "## Define the Task, Design the Agent, and Train Your Agent!\n",
    "\n",
    "Amend `task.py` to specify a task of your choosing.  If you're unsure what kind of task to specify, you may like to teach your quadcopter to takeoff, hover in place, land softly, or reach a target pose.  \n",
    "\n",
    "After specifying your task, use the sample agent in `agents/policy_search.py` as a template to define your own agent in `agents/agent.py`.  You can borrow whatever you need from the sample agent, including ideas on how you might modularize your code (using helper methods like `act()`, `learn()`, `reset_episode()`, etc.).\n",
    "\n",
    "Note that it is **highly unlikely** that the first agent and task that you specify will learn well.  You will likely have to tweak various hyperparameters and the reward function for your task until you arrive at reasonably good behavior.\n",
    "\n",
    "As you develop your agent, it's important to keep an eye on how it's performing. Use the code above as inspiration to build in a mechanism to log/save the total rewards obtained in each episode to file.  If the episode rewards are gradually increasing, this is an indication that your agent is learning."
   ]
  },
  {
   "cell_type": "code",
   "execution_count": 6,
   "metadata": {
    "scrolled": false
   },
   "outputs": [
    {
     "name": "stdout",
     "output_type": "stream",
     "text": [
      "Episode =   10"
     ]
    }
   ],
   "source": [
    "# This is nice if you interupt the learning while rendering.\n",
    "# This will automatically close the previous session.\n",
    "try:\n",
    "    agent.task.close()\n",
    "except:\n",
    "    pass\n",
    "\n",
    "num_episodes = 10\n",
    "\n",
    "agent = DDPG(env, gym=True)\n",
    "\n",
    "\n",
    "# general configuration\n",
    "display_graph = True\n",
    "display_freq = 1\n",
    "file_output = 'data.txt'                         # file name for saved results\n",
    "\n",
    "labels = ['time', 'x', 'y', 'z', 'phi', 'theta', 'psi', 'x_velocity',\n",
    "          'y_velocity', 'z_velocity', 'phi_velocity', 'theta_velocity',\n",
    "          'psi_velocity', 'rotor_speed1', 'rotor_speed2', 'rotor_speed3', 'rotor_speed4', 'reward']\n",
    "\n",
    "total_rewards = []\n",
    "\n",
    "for i_episode in range(1, num_episodes+1):\n",
    "    \n",
    "    results = {x : [] for x in labels}\n",
    "    # Run the simulation, and save the results.\n",
    "    with open(file_output, 'w') as csvfile:\n",
    "        writer = csv.writer(csvfile)\n",
    "        writer.writerow(labels)\n",
    "\n",
    "        state = agent.reset_episode() # start a new episode\n",
    "    \n",
    "        while True:\n",
    "            action = agent.act(state) \n",
    "            next_state, reward, done, _ = env.step(action)\n",
    "            agent.step(action, reward, next_state, done)\n",
    "            state = next_state\n",
    "                \n",
    "            # within the episode loop\n",
    "            if (i_episode % display_freq == 1):\n",
    "                to_write = [task.sim.time]\n",
    "                to_write += list(task.sim.pose)\n",
    "                to_write += list(task.sim.v)\n",
    "                to_write += list(task.sim.angular_v)\n",
    "                to_write += list(action)   #rotor_speeds\n",
    "                to_write += [reward]                \n",
    "                for ii in range(len(labels)):\n",
    "                    results[labels[ii]].append(to_write[ii])\n",
    "                writer.writerow(to_write)\n",
    "        \n",
    "            if done:\n",
    "                # at the end of the episode, add the latest data points to the graph\n",
    "                #print(\"\\rEpisode = {:4d}, score = {:7.3f} (best = {:7.3f}), noise_scale = {}\".format(\n",
    "                #    i_episode, agent.score, agent.best_score, agent.noise_scale), end=\"\")  # [debug]\n",
    "                print(\"\\rEpisode = {:4d}\".format(i_episode), end=\"\")  # [debug]                                  \n",
    "                if (i_episode % display_freq == 1):    \n",
    "                    util.plot_run(results)\n",
    "                    print('__________________________________________________________________________________________')\n",
    "                total_rewards.append(reward.sum())   #append(reward.sum())\n",
    "                break\n",
    "        sys.stdout.flush()"
   ]
  },
  {
   "cell_type": "markdown",
   "metadata": {
    "collapsed": true
   },
   "source": [
    "## Plot the Rewards\n",
    "\n",
    "Once you are satisfied with your performance, plot the episode rewards, either from a single run, or averaged over multiple runs. "
   ]
  },
  {
   "cell_type": "code",
   "execution_count": 7,
   "metadata": {},
   "outputs": [
    {
     "data": {
      "image/png": "[encoded data removed]",
      "text/plain": [
       "<Figure size 936x504 with 1 Axes>"
      ]
     },
     "metadata": {},
     "output_type": "display_data"
    }
   ],
   "source": [
    "#plot episode rewards\n",
    "plt.figure(figsize=(13,7))\n",
    "plt.plot(range(1, num_episodes + 1), total_rewards, label='episode total rewards')\n",
    "plt.legend()\n",
    "plt.show()\n"
   ]
  },
  {
   "cell_type": "code",
   "execution_count": 8,
   "metadata": {},
   "outputs": [
    {
     "ename": "NameError",
     "evalue": "name 'util' is not defined",
     "output_type": "error",
     "traceback": [
      "\u001b[1;31m---------------------------------------------------------------------------\u001b[0m",
      "\u001b[1;31mNameError\u001b[0m                                 Traceback (most recent call last)",
      "\u001b[1;32m<ipython-input-8-40437401042d>\u001b[0m in \u001b[0;36m<module>\u001b[1;34m()\u001b[0m\n\u001b[1;32m----> 1\u001b[1;33m \u001b[0mutil\u001b[0m\u001b[1;33m.\u001b[0m\u001b[0mplot_run\u001b[0m\u001b[1;33m(\u001b[0m\u001b[0mresults\u001b[0m\u001b[1;33m)\u001b[0m\u001b[1;33m\u001b[0m\u001b[0m\n\u001b[0m",
      "\u001b[1;31mNameError\u001b[0m: name 'util' is not defined"
     ]
    }
   ],
   "source": [
    "util.plot_run(results)"
   ]
  },
  {
   "cell_type": "markdown",
   "metadata": {
    "collapsed": true
   },
   "source": [
    "## Reflections\n",
    "\n",
    "**Question 1**: Describe the task that you specified in `task.py`.  How did you design the reward function?\n",
    "\n",
    "**Answer**: \n",
    "In `task.py` the task class is loaded. It initializes the PhysicsSim model, action repeats, and sets the interface to the cuadcopter parameters. It also sets up the reward function. \n",
    "\n",
    "I took the reward function \n",
    "* reward = 1. - .3 * (abs(self.sim.pose[:3] - self.target_pos)).sum()*\n",
    "\n",
    "It calculates the difference between target- and actual position. The bigger the difference, the lower the reward. I thought about taking the squared difference, but as it does not seem to be good in general to have big values for rewards, I did not try that in the end."
   ]
  },
  {
   "cell_type": "markdown",
   "metadata": {},
   "source": [
    "**Question 2**: Discuss your agent briefly, using the following questions as a guide:\n",
    "\n",
    "- What learning algorithm(s) did you try? What worked best for you?\n",
    "- What was your final choice of hyperparameters (such as $\\alpha$, $\\gamma$, $\\epsilon$, etc.)?\n",
    "- What neural network architecture did you use (if any)? Specify layers, sizes, activation functions, etc.\n",
    "\n",
    "**Answer**: I took the DDPG algorithm (**Continuous Control with Deep Reinforcement Learning**). This is a model-free algorithm based on deterministic policy gradient which is especially suited to operate over continuous action spaces. (DDPG = Deep Deterministic Policy Gradient)\n",
    "\n",
    "* Hyperparameters:\n",
    "I tried to choose most of the parameters as indicated in the *Experiment Details* section in the DDPG paper. The discount rate for the rewards was set to $\\gamma = 0.99$ and the learning rate for the soft target updates is set to $\\tau = 0,001$ The actor-NN final output layer activation function was set to $\\tanh$. \n",
    "\n",
    "I used 2 hidden layers of the "
   ]
  },
  {
   "cell_type": "markdown",
   "metadata": {},
   "source": [
    "**Question 3**: Using the episode rewards plot, discuss how the agent learned over time.\n",
    "\n",
    "- Was it an easy task to learn or hard?\n",
    "- Was there a gradual learning curve, or an aha moment?\n",
    "- How good was the final performance of the agent? (e.g. mean rewards over the last 10 episodes)\n",
    "\n",
    "**Answer**:"
   ]
  },
  {
   "cell_type": "markdown",
   "metadata": {},
   "source": [
    "**Question 4**: Briefly summarize your experience working on this project. You can use the following prompts for ideas.\n",
    "\n",
    "- What was the hardest part of the project? (e.g. getting started, plotting, specifying the task, etc.)\n",
    "- Did you find anything interesting in how the quadcopter or your agent behaved?\n",
    "\n",
    "**Answer**:"
   ]
  }
 ],
 "metadata": {
  "anaconda-cloud": {},
  "kernelspec": {
   "display_name": "Python [default]",
   "language": "python",
   "name": "python3"
  },
  "language_info": {
   "codemirror_mode": {
    "name": "ipython",
    "version": 3
   },
   "file_extension": ".py",
   "mimetype": "text/x-python",
   "name": "python",
   "nbconvert_exporter": "python",
   "pygments_lexer": "ipython3",
   "version": "3.6.5"
  }
 },
 "nbformat": 4,
 "nbformat_minor": 2
}
